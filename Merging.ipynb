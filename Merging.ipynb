{
 "cells": [
  {
   "cell_type": "code",
   "execution_count": 1,
   "metadata": {},
   "outputs": [],
   "source": [
    "import pysixtracklib as pyst\n",
    "from pysixtracklib import stcommon as st"
   ]
  },
  {
   "cell_type": "code",
   "execution_count": 2,
   "metadata": {},
   "outputs": [],
   "source": [
    "import ctypes"
   ]
  },
  {
   "cell_type": "code",
   "execution_count": 3,
   "metadata": {},
   "outputs": [],
   "source": [
    "import PyHEADTAIL_concept"
   ]
  },
  {
   "cell_type": "code",
   "execution_count": 4,
   "metadata": {},
   "outputs": [],
   "source": [
    "from scipy.constants import e, c, m_p"
   ]
  },
  {
   "cell_type": "code",
   "execution_count": 5,
   "metadata": {},
   "outputs": [],
   "source": [
    "pyht_beam = PyHEADTAIL_concept.beam"
   ]
  },
  {
   "cell_type": "code",
   "execution_count": 6,
   "metadata": {},
   "outputs": [],
   "source": [
    "num_particles = PyHEADTAIL_concept.beam.macroparticlenumber"
   ]
  },
  {
   "cell_type": "code",
   "execution_count": 7,
   "metadata": {},
   "outputs": [],
   "source": [
    "pyst_beam = pyst.Particles.from_ref(num_particles=num_particles, p0c=pyht_beam.p0 * c / e)"
   ]
  },
  {
   "cell_type": "markdown",
   "metadata": {},
   "source": [
    "`pyst_beam` is on the CPU now"
   ]
  },
  {
   "cell_type": "code",
   "execution_count": 8,
   "metadata": {},
   "outputs": [],
   "source": [
    "ctx = st.st_CudaContext_create()"
   ]
  },
  {
   "cell_type": "code",
   "execution_count": 9,
   "metadata": {},
   "outputs": [
    {
     "name": "stderr",
     "output_type": "stream",
     "text": [
      "<>:4: SyntaxWarning: assertion is always true, perhaps remove parentheses?\n",
      "<>:4: SyntaxWarning: assertion is always true, perhaps remove parentheses?\n",
      "<>:4: SyntaxWarning: assertion is always true, perhaps remove parentheses?\n",
      "<ipython-input-9-62f10bde8789>:4: SyntaxWarning: assertion is always true, perhaps remove parentheses?\n",
      "  assert (st.st_CudaArgument_send_buffer(particles_arg, ptr_buffer),\n"
     ]
    }
   ],
   "source": [
    "# creating particles buffer itself\n",
    "particles_arg = st.st_CudaArgument_new(ctx)\n",
    "ptr_buffer = st.st_Buffer_new_mapped_on_cbuffer(pyst_beam._buffer)\n",
    "assert (st.st_CudaArgument_send_buffer(particles_arg, ptr_buffer),\n",
    "        \"could not remap particles on GPU\")"
   ]
  },
  {
   "cell_type": "code",
   "execution_count": 10,
   "metadata": {},
   "outputs": [],
   "source": [
    "# creating particles with pointers to actual array contents in particles\n",
    "particles_addr = st.st_ParticlesAddr()\n",
    "sizeof_particles_addr = ctypes.c_uint64(ctypes.sizeof(particles_addr))\n",
    "ptr_particles_addr = st.st_ParticlesAddr_preset(ctypes.byref(particles_addr))\n",
    "\n",
    "particles_addr_arg = st.st_CudaArgument_new(ctx)\n",
    "assert st.st_CudaArgument_send_memory(particles_addr_arg, ptr_particles_addr, sizeof_particles_addr)"
   ]
  },
  {
   "cell_type": "code",
   "execution_count": 11,
   "metadata": {},
   "outputs": [
    {
     "data": {
      "text/plain": [
       "0"
      ]
     },
     "execution_count": 11,
     "metadata": {},
     "output_type": "execute_result"
    }
   ],
   "source": [
    "# \n",
    "st.st_Particles_extract_addresses_cuda(\n",
    "    st.st_CudaArgument_get_arg_buffer(particles_addr_arg),\n",
    "    st.st_CudaArgument_get_arg_buffer(particles_arg)\n",
    ")"
   ]
  },
  {
   "cell_type": "code",
   "execution_count": 12,
   "metadata": {},
   "outputs": [
    {
     "data": {
      "text/plain": [
       "True"
      ]
     },
     "execution_count": 12,
     "metadata": {},
     "output_type": "execute_result"
    }
   ],
   "source": [
    "st.st_CudaArgument_receive_memory(particles_addr_arg, ptr_particles_addr, sizeof_particles_addr)"
   ]
  },
  {
   "cell_type": "code",
   "execution_count": 13,
   "metadata": {},
   "outputs": [],
   "source": [
    "ptr_x, ptr_px, ptr_y, ptr_py, ptr_z, ptr_delta = (\n",
    "    particles_addr.x, particles_addr.px, \n",
    "    particles_addr.y, particles_addr.py, \n",
    "    particles_addr.zeta, particles_addr.delta)"
   ]
  },
  {
   "cell_type": "markdown",
   "metadata": {},
   "source": [
    "$\\implies$ we got the pointers"
   ]
  },
  {
   "cell_type": "code",
   "execution_count": 14,
   "metadata": {},
   "outputs": [],
   "source": [
    "import cupy\n",
    "\n",
    "from cupy.cuda.memory import UnownedMemory, MemoryPointer"
   ]
  },
  {
   "cell_type": "code",
   "execution_count": 23,
   "metadata": {},
   "outputs": [],
   "source": [
    "def convolve_via_fft(a, b):\n",
    "    if len(b) < len(a):\n",
    "        a, b = b, a\n",
    "    a_padded = pm.zeros(len(b), dtype=np.float64)\n",
    "    # rolled by 1 in order to reproduce np.convolve(mode='valid'):\n",
    "    a_padded[-len(a)+1:] = a[:-1]\n",
    "    a_padded[0] = a[-1] \n",
    "    f1 = pm.fft(a_padded)\n",
    "    f2 = pm.fft(b)\n",
    "    conv = pm.ifft(f1 * f2)\n",
    "    conv = pm.real(conv) # throw away imaginary part (numerical fluctuations around 0)\n",
    "    return conv[:len(a)]\n",
    "\n",
    "pm = PyHEADTAIL_concept.pm\n",
    "\n",
    "# references to all relevant methods on GPU via cupy\n",
    "cupy_dict = dict(\n",
    "    sin=cupy.sin,\n",
    "    cos=cupy.cos,\n",
    "    tan=cupy.tan,\n",
    "    exp=cupy.exp,\n",
    "    sinh=cupy.sinh,\n",
    "    cosh=cupy.cosh,\n",
    "    tanh=cupy.tanh,\n",
    "    sqrt=cupy.sqrt,\n",
    "    abs=cupy.abs,\n",
    "    floor=cupy.floor,\n",
    "    real=cupy.real,\n",
    "    imag=cupy.imag,\n",
    "    fft=cupy.fft.fft,\n",
    "    ifft=cupy.fft.ifft,\n",
    "    # voila:\n",
    "    convolve=convolve_via_fft,\n",
    "    \n",
    "    histogram=cupy.histogram,\n",
    "    mean=cupy.mean,\n",
    "    cov=lambda a, b: cupy.cov(a, b)[0, 1],\n",
    "    std=lambda u: cupy.sqrt(cupy_dict['cov'](u, u)),\n",
    "    emittance_geo=lambda u, up: cupy.sqrt(cupy.linalg.det(cupy.cov(u, up))),\n",
    "    asarray=cupy.asarray,\n",
    "    empty=cupy.empty,\n",
    "    zeros=cupy.zeros,\n",
    "    linspace=cupy.linspace,\n",
    "    arange=cupy.arange,\n",
    "    take=cupy.take,\n",
    "    where=cupy.where,\n",
    "    concatenate=cupy.concatenate,\n",
    "    clip=cupy.clip,\n",
    ")\n",
    "\n",
    "class GPU_cupy(object):\n",
    "    '''GPU context manager working with the cupy library.\n",
    "    '''\n",
    "    \n",
    "    def __init__(self, beam):\n",
    "        self.beam = beam\n",
    "        self.to_move = beam.coords_n_momenta\n",
    "\n",
    "    def __enter__(self):\n",
    "        # moving data to device\n",
    "        for attr in self.to_move:\n",
    "            coord = getattr(self.beam, attr)\n",
    "            transferred = cupy.asarray(coord)\n",
    "            setattr(self.beam, attr, transferred)\n",
    "\n",
    "        # replace functions in general.math.py\n",
    "        pm.update_active_dict(cupy_dict)\n",
    "        return self\n",
    "\n",
    "    def __exit__(self, exc_type, exc_value, traceback):\n",
    "        # moving data back to host\n",
    "        for attr in self.to_move:\n",
    "            coord = getattr(self.beam, attr)\n",
    "            transferred = coord.get()\n",
    "            setattr(self.beam, attr, transferred)\n",
    "        pm.update_active_dict(pm._default_function_dict)"
   ]
  },
  {
   "cell_type": "code",
   "execution_count": 15,
   "metadata": {},
   "outputs": [],
   "source": [
    "def provide_cupy_array(ptr): # tie owner to particles instead of particles_addr\n",
    "    mem = UnownedMemory(ptr=ptr, size=num_particles, owner=particles_addr)#, device_id=device_id)\n",
    "    memptr = MemoryPointer(mem, offset=0)\n",
    "    return cupy.ndarray(num_particles, dtype=float, memptr=memptr)"
   ]
  },
  {
   "cell_type": "code",
   "execution_count": 17,
   "metadata": {},
   "outputs": [],
   "source": [
    "x = provide_cupy_array(ptr_x)\n",
    "px = provide_cupy_array(ptr_px)\n",
    "y = provide_cupy_array(ptr_y)\n",
    "py = provide_cupy_array(ptr_py)\n",
    "z = provide_cupy_array(ptr_z)\n",
    "delta = provide_cupy_array(ptr_delta)"
   ]
  },
  {
   "cell_type": "code",
   "execution_count": 26,
   "metadata": {},
   "outputs": [],
   "source": [
    "with GPU_cupy(pyht_beam):\n",
    "    x[:] = pyht_beam.x\n",
    "    px[:] = 1 * pyht_beam.xp\n",
    "    y[:] = pyht_beam.y\n",
    "    py[:] = 1 * pyht_beam.yp\n",
    "    z[:] = pyht_beam.z\n",
    "    delta[:] = pyht_beam.dp"
   ]
  },
  {
   "cell_type": "markdown",
   "metadata": {},
   "source": [
    "$\\implies$ done! can talk between both codes :)\n",
    "\n",
    "# let's go for a lattice"
   ]
  },
  {
   "cell_type": "code",
   "execution_count": 35,
   "metadata": {},
   "outputs": [],
   "source": [
    "import numpy as np"
   ]
  },
  {
   "cell_type": "code",
   "execution_count": 33,
   "metadata": {},
   "outputs": [],
   "source": [
    "def idivup(a, b):\n",
    "    ''' Compute int(a)//int(b) and round up to next integer if a%b != 0 '''\n",
    "    a = np.int32(a)\n",
    "    b = np.int32(b)\n",
    "    z = (a // b + 1) if (a % b != 0) else (a // b)\n",
    "    return int(z)"
   ]
  },
  {
   "cell_type": "code",
   "execution_count": 29,
   "metadata": {},
   "outputs": [],
   "source": [
    "elements = pyst.Elements()\n",
    "elements.Drift(length=1.2)\n",
    "elements.Multipole(knl=[0, 1e-3]);"
   ]
  },
  {
   "cell_type": "code",
   "execution_count": 30,
   "metadata": {},
   "outputs": [],
   "source": [
    "lattice = st.st_Buffer_new_mapped_on_cbuffer(elements.cbuffer)\n",
    "lattice_arg = st.st_CudaArgument_new(ctx)\n",
    "assert st.st_CudaArgument_send_buffer(lattice_arg, lattice), 'could not transfer lattice to GPU'"
   ]
  },
  {
   "cell_type": "code",
   "execution_count": 53,
   "metadata": {},
   "outputs": [],
   "source": [
    "class TrackSixTrackLib(PyHEADTAIL_concept.Element):\n",
    "    def __init__(self, elements, i_start, i_end):\n",
    "        self.elements = elements\n",
    "        self.i_start = ctypes.c_uint64(i_start)\n",
    "        self.i_end = ctypes.c_uint64(i_end)\n",
    "        n_elements = len(elements.get_elements())\n",
    "        self.is_last_element = i_end == n_elements\n",
    "\n",
    "    def track(self, beam):\n",
    "        # pass arrays and convert units\n",
    "        self.pyht_to_stlib(beam)\n",
    "        # track in SixTrackLib\n",
    "        st.st_Track_particles_line_cuda_on_grid(\n",
    "            st.st_CudaArgument_get_arg_buffer(particles_arg),\n",
    "            st.st_CudaArgument_get_arg_buffer(lattice_arg),\n",
    "            self.i_start, self.i_end, ctypes.c_bool(self.is_last_element),\n",
    "            # cuda grid / block definition:\n",
    "            idivup(num_particles, 256), 256,\n",
    "        )\n",
    "        # pass arrays back (converting units back)\n",
    "        self.stlib_to_pyht(beam)\n",
    "\n",
    "    def pyht_to_stlib(self, beam):\n",
    "        x[:] = beam.x\n",
    "        px[:] = 1 * beam.xp\n",
    "        y[:] = beam.y\n",
    "        py[:] = 1 * beam.yp\n",
    "        z[:] = beam.z\n",
    "        delta[:] = beam.dp\n",
    "\n",
    "    def stlib_to_pyht(self, beam):\n",
    "        beam.x = x\n",
    "        beam.xp = 1 * px\n",
    "        beam.y = y\n",
    "        beam.yp = 1 * py\n",
    "        beam.z = z\n",
    "        beam.dp = delta"
   ]
  },
  {
   "cell_type": "markdown",
   "metadata": {},
   "source": [
    "$\\implies$ still missing unit conversion between both codes"
   ]
  },
  {
   "cell_type": "markdown",
   "metadata": {},
   "source": [
    "# ready to track!"
   ]
  },
  {
   "cell_type": "code",
   "execution_count": 54,
   "metadata": {},
   "outputs": [],
   "source": [
    "elem_first = TrackSixTrackLib(elements, 0, 1)\n",
    "elem_second = TrackSixTrackLib(elements, 1, 2)"
   ]
  },
  {
   "cell_type": "code",
   "execution_count": 55,
   "metadata": {},
   "outputs": [
    {
     "data": {
      "text/plain": [
       "array([-1.56343739e-03,  3.32485712e-04,  9.53883792e-05, ...,\n",
       "        9.88028777e-04,  6.43043835e-04, -3.81919196e-04])"
      ]
     },
     "execution_count": 55,
     "metadata": {},
     "output_type": "execute_result"
    }
   ],
   "source": [
    "x0 = pyht_beam.x.copy()\n",
    "with GPU_cupy(pyht_beam):\n",
    "    elem_first.track(pyht_beam)\n",
    "pyht_beam.x - x0"
   ]
  },
  {
   "cell_type": "markdown",
   "metadata": {},
   "source": [
    "# track more advanced with both codes:"
   ]
  },
  {
   "cell_type": "code",
   "execution_count": 59,
   "metadata": {},
   "outputs": [],
   "source": [
    "beam = pyht_beam"
   ]
  },
  {
   "cell_type": "code",
   "execution_count": 64,
   "metadata": {},
   "outputs": [],
   "source": [
    "one_turn_map_mixed = [\n",
    "    elem_first, PyHEADTAIL_concept.resonator, elem_second] #PyHEADTAIL_concept.RFSystem, "
   ]
  },
  {
   "cell_type": "code",
   "execution_count": 65,
   "metadata": {},
   "outputs": [],
   "source": [
    "n_turns = 100\n",
    "\n",
    "mean_x = np.empty(n_turns, dtype=float)\n",
    "mean_y = np.empty_like(mean_x)\n",
    "mean_z = np.empty_like(mean_x)\n",
    "\n",
    "with GPU_cupy(beam):\n",
    "    # TRACKING!\n",
    "    for turn in range(n_turns):\n",
    "        for el in one_turn_map_mixed:\n",
    "            el.track(beam)\n",
    "            mean_x[turn] = beam.mean_x().get()\n",
    "            mean_y[turn] = beam.mean_y().get()\n",
    "            mean_z[turn] = beam.mean_z().get()"
   ]
  },
  {
   "cell_type": "code",
   "execution_count": null,
   "metadata": {},
   "outputs": [],
   "source": []
  }
 ],
 "metadata": {
  "kernelspec": {
   "display_name": "Python 3",
   "language": "python",
   "name": "python3"
  },
  "language_info": {
   "codemirror_mode": {
    "name": "ipython",
    "version": 3
   },
   "file_extension": ".py",
   "mimetype": "text/x-python",
   "name": "python",
   "nbconvert_exporter": "python",
   "pygments_lexer": "ipython3",
   "version": "3.7.1"
  }
 },
 "nbformat": 4,
 "nbformat_minor": 2
}
