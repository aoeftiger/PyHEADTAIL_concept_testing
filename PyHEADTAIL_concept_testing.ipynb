{
 "cells": [
  {
   "cell_type": "markdown",
   "metadata": {},
   "source": [
    "# PyHEADTAIL test ground\n",
    "\n",
    "Created Feb 2019, Adrian Oeftiger\n",
    "\n",
    "## Goal\n",
    "\n",
    "The present notebook implements the basic functionality of the multi-particle beam dynamics simulation library `PyHEADTAIL`: https://github.com/PyCOMPLETE/PyHEADTAIL/ . The goal is to provide an environment for exploring concepts, how `PyHEADTAIL` can efficiently be accelerated. \n",
    "\n",
    "`PyHEADTAIL` is used to advance macro-particles through an accelerator, alternating between the single-particle transport and the multi-particle interaction nodes. Here we will only implement a specific interaction node based on wakefield interaction. These collective effects are based on (i.) a discretisation of the continuously distributed macro-particles onto a regular grid, (ii.) finding the solution of electromagnetic interaction on the grid typically via Green's functions using convolution (can exploit FFT algorithm) and (iii.) interpolation back to the particles.\n",
    "\n",
    "With the implemented context management of `PyHEADTAIL`, the physics can be implemented in a single code passage, while targeting CPU (`numpy`/`cython`) and GPU (`PyCUDA`) hardware. This notebook explains and reflects this structure.\n",
    "\n",
    "The following code snippets are partly extracted from the original PyHEADTAIL source authored to significant portions by Kevin Li, Adrian Oeftiger, Michael Schenk and Stefan Hegglin.\n",
    "\n",
    "## Structure\n",
    "\n",
    "In the first part I., the essential features of `PyHEADTAIL` are implemented: \n",
    "1. Accelerator element and beam description containing the data\n",
    "2. Context management with the math functions\n",
    "3. Single-particle transport (embarrassingly parallel tracking)\n",
    "4. Multi-particle interaction (memory-interactive collective effects)\n",
    "\n",
    "The second part II. shows how a typical simulation is set up by a user in a script, using the library classes.\n",
    "\n",
    "The third part III. profiles the code and shows that typically the discretisation and statistics computation of the distribution takes most time.\n",
    "\n",
    "The fourth part IV. deals with possible approaches to accelerate the algorithms. Here we demonstrate how to use the context management approach by speeding up some statistics computations based on outsourcing them to `cython`. The context management also provides an easy means to accelerate on the graphical processing unit via the `cupy` library (`PyCUDA` would work in an equivalent way).\n",
    "\n",
    "Here, further approaches such as `numba` can be tested."
   ]
  },
  {
   "cell_type": "markdown",
   "metadata": {},
   "source": [
    "## I. PyHEADTAIL abstraction"
   ]
  },
  {
   "cell_type": "markdown",
   "metadata": {},
   "source": [
    "### 1. Basic description of accelerator and beam"
   ]
  },
  {
   "cell_type": "markdown",
   "metadata": {},
   "source": [
    "A part of an accelerator or a physics effect class knows how to track the particle beam:"
   ]
  },
  {
   "cell_type": "code",
   "execution_count": 1,
   "metadata": {},
   "outputs": [],
   "source": [
    "from abc import ABCMeta, abstractmethod\n",
    "\n",
    "class Element(object):\n",
    "    '''Abstract transporting element as part of the\n",
    "    accelerator layout, knows how to /track/ a beam.\n",
    "    '''\n",
    "    __metaclass__ = ABCMeta\n",
    "    \n",
    "    @abstractmethod\n",
    "    def track(self, beam):\n",
    "        '''Perform tracking of beam through this Element.'''\n",
    "        pass"
   ]
  },
  {
   "cell_type": "markdown",
   "metadata": {},
   "source": [
    "The beam is represented by a class, the arrays `x`, `xp`, `y`, `yp`, `z` and `dp` are the coordinate and momentum values of each individual macro-particle:"
   ]
  },
  {
   "cell_type": "code",
   "execution_count": 2,
   "metadata": {},
   "outputs": [],
   "source": [
    "from scipy.constants import e, m_p, c\n",
    "\n",
    "class Particles(object):\n",
    "    '''Description of a beam of macro-particles with its coordinates\n",
    "    and conjugate momenta as well as basic properties.\n",
    "    '''\n",
    "    def __init__(\n",
    "            self, x, xp, y, yp, z, dp, intensity, gamma, circumference,\n",
    "            charge=e, mass=m_p, *args, **kwargs):\n",
    "        '''Args: x, y and z are the horizontal, vertical and longitudinal\n",
    "        coordinate arrays of the macro-particles in the along with\n",
    "        xp, yp and dp their dimensionless conjugate momenta.\n",
    "        intensity denotes the number of real particles in the beam.\n",
    "        gamma is the Lorentz energy assumed to be the same for all\n",
    "        particles.\n",
    "        circumference is the synchrotron circumference.\n",
    "        '''\n",
    "        self.x = x\n",
    "        self.xp = xp\n",
    "        self.y = y\n",
    "        self.yp = yp\n",
    "        self.z = z\n",
    "        self.dp = dp\n",
    "        self.coords_n_momenta = ['x', 'xp', 'y', 'yp', 'z', 'dp']\n",
    "        \n",
    "        self.macroparticlenumber = len(x)\n",
    "        assert self.macroparticlenumber == len(xp)\n",
    "        assert self.macroparticlenumber == len(y) \n",
    "        assert self.macroparticlenumber == len(yp)\n",
    "        assert self.macroparticlenumber == len(z)\n",
    "        assert self.macroparticlenumber == len(dp)\n",
    "        \n",
    "        self.intensity = intensity\n",
    "        \n",
    "        self.charge = charge\n",
    "        self.mass = mass\n",
    "\n",
    "        self.circumference = circumference\n",
    "        self.gamma = gamma\n",
    "        \n",
    "    @property\n",
    "    def particlenumber_per_mp(self):\n",
    "        return self.intensity / self.macroparticlenumber\n",
    "    @property\n",
    "    def charge_per_mp(self):\n",
    "        return self.particlenumber_per_mp * self.charge\n",
    "\n",
    "    # energy formulae as properties\n",
    "    @property\n",
    "    def gamma(self):\n",
    "        return self._gamma\n",
    "    @gamma.setter\n",
    "    def gamma(self, value):\n",
    "        self._gamma = value\n",
    "        self._beta = np.sqrt(1 - self.gamma**-2)\n",
    "        self._betagamma = np.sqrt(self.gamma**2 - 1)\n",
    "        self._p0 = self.betagamma * self.mass * c\n",
    "\n",
    "    @property\n",
    "    def beta(self):\n",
    "        return self._beta\n",
    "    @beta.setter\n",
    "    def beta(self, value):\n",
    "        self.gamma = 1. / np.sqrt(1 - value ** 2)\n",
    "\n",
    "    @property\n",
    "    def betagamma(self):\n",
    "        return self._betagamma\n",
    "    @betagamma.setter\n",
    "    def betagamma(self, value):\n",
    "        self.gamma = np.sqrt(value**2 + 1)\n",
    "\n",
    "    @property\n",
    "    def p0(self):\n",
    "        return self._p0\n",
    "    @p0.setter\n",
    "    def p0(self, value):\n",
    "        self.gamma = np.sqrt(1 + (value / (self.mass * c))**2)\n",
    "    \n",
    "    # DISTRIBUTION STATISTICS\n",
    "    # for collective effects as well as storing the time evolution of the beam!\n",
    "    # Note: will make use of the pmath library already (for context management),\n",
    "    # see next section in this notebook\n",
    "    \n",
    "    ## centroids:\n",
    "    def mean_x(self):\n",
    "        return pm.mean(self.x)\n",
    "    def mean_y(self):\n",
    "        return pm.mean(self.y)\n",
    "    def mean_z(self):\n",
    "        return pm.mean(self.z)\n",
    "    def mean_xp(self):\n",
    "        return pm.mean(self.xp)\n",
    "    def mean_yp(self):\n",
    "        return pm.mean(self.yp)\n",
    "    def mean_dp(self):\n",
    "        return pm.mean(self.dp)\n",
    "    \n",
    "    ## beam sizes:\n",
    "    def sigma_x(self):\n",
    "        return pm.std(self.x)\n",
    "    def sigma_y(self):\n",
    "        return pm.std(self.y)\n",
    "    def sigma_z(self):\n",
    "        return pm.std(self.z)\n",
    "    def sigma_xp(self):\n",
    "        return pm.std(self.xp)\n",
    "    def sigma_y(self):\n",
    "        return pm.std(self.yp)\n",
    "    def sigma_dp(self):\n",
    "        return pm.std(self.dp)\n",
    "    \n",
    "    ## emittances:\n",
    "    def epsn_x(self):\n",
    "        return pm.emittance_geo(self.x, self.xp) * self.betagamma\n",
    "    def epsn_y(self):\n",
    "        return pm.emittance_geo(self.y, self.yp) * self.betagamma\n",
    "    def epsn_z(self):\n",
    "        return 4*np.pi * pm.emittance_geo(self.z, self.dp) * self.p0 / e"
   ]
  },
  {
   "cell_type": "markdown",
   "metadata": {},
   "source": [
    "### 2. Context Management"
   ]
  },
  {
   "cell_type": "markdown",
   "metadata": {},
   "source": [
    "#### a. Context manager\n",
    "\n",
    "Here the CPU context with the numpy library acting on CPU RAM allocated arrays is defined:"
   ]
  },
  {
   "cell_type": "code",
   "execution_count": 3,
   "metadata": {},
   "outputs": [],
   "source": [
    "import numpy as np\n",
    "from functools import partial\n",
    "\n",
    "# references to all relevant methods on CPU via numpy\n",
    "cpu_dict = dict(\n",
    "    sin=np.sin,\n",
    "    cos=np.cos,\n",
    "    tan=np.tan,\n",
    "    exp=np.exp,\n",
    "    sinh=np.sinh,\n",
    "    cosh=np.cosh,\n",
    "    tanh=np.tanh,\n",
    "    sqrt=np.sqrt,\n",
    "    abs=np.abs,\n",
    "    real=np.real,\n",
    "    imag=np.imag,\n",
    "    fft=np.fft.fft,\n",
    "    ifft=np.fft.ifft,\n",
    "    convolve=partial(np.convolve, mode='valid'), # could also be implemented as ifft(fft * fft) e.g. for CuPy\n",
    "    histogram=np.histogram,\n",
    "    mean=np.mean,\n",
    "    cov=lambda a, b: np.cov(a, b)[0, 1],\n",
    "    std=lambda u: np.sqrt(cpu_dict['cov'](u, u)),\n",
    "    emittance_geo=lambda u, up: np.sqrt(np.linalg.det(np.cov(u, up))),\n",
    "    empty=np.empty,\n",
    "    zeros=np.zeros,\n",
    "    linspace=np.linspace,\n",
    "    arange=np.arange,\n",
    "    take=np.take,\n",
    "    where=np.where,\n",
    "    concatenate=np.concatenate,\n",
    "    clip=np.clip,\n",
    ")\n",
    "\n",
    "class CPU(object):\n",
    "    '''CPU context manager working with the numpy library.\n",
    "    Here just to show the principle.\n",
    "    '''\n",
    "    \n",
    "    def __init__(self, beam):\n",
    "        self.beam = beam\n",
    "        self.to_move = beam.coords_n_momenta\n",
    "\n",
    "    def __enter__(self):\n",
    "        # moving data to device\n",
    "        for attr in self.to_move:\n",
    "            coord = getattr(self.beam, attr)\n",
    "            transferred = np.asarray(coord)\n",
    "            setattr(self.beam, attr, transferred)\n",
    "\n",
    "        # replace functions in general.math.py\n",
    "        pm.update_active_dict(cpu_dict)\n",
    "        return self\n",
    "\n",
    "    def __exit__(self, exc_type, exc_value, traceback):\n",
    "        # here should be moving data back to host\n",
    "        pm.update_active_dict(pm._default_function_dict)"
   ]
  },
  {
   "cell_type": "markdown",
   "metadata": {},
   "source": [
    "#### b. PyHEADTAIL math library which links to the contextual math library\n",
    "\n",
    "Any other dictionary implementing the same functions as `cpu_dict` could be given to `pmath`:"
   ]
  },
  {
   "cell_type": "code",
   "execution_count": 4,
   "metadata": {},
   "outputs": [],
   "source": [
    "class pmath(object):\n",
    "    '''Math library which links to math functions depending on\n",
    "    currently spilled function dictionary (depending on context).\n",
    "    '''\n",
    "    def __init__(self, default_function_dict=cpu_dict):\n",
    "        self._default_function_dict = default_function_dict\n",
    "        self.update_active_dict(default_function_dict)\n",
    "        \n",
    "    def update_active_dict(self, function_dict):\n",
    "        for func in function_dict:\n",
    "            setattr(self, func, function_dict[func])\n",
    "\n",
    "# global state here, in real PyHEADTAIL this would be a module\n",
    "pm = pmath()"
   ]
  },
  {
   "cell_type": "markdown",
   "metadata": {},
   "source": [
    "### 3. Trackers advancing the particles (embarrassingly parallel)\n",
    "\n",
    "The trackers make use of the `pmath` calls to the contextual math library."
   ]
  },
  {
   "cell_type": "code",
   "execution_count": 5,
   "metadata": {},
   "outputs": [],
   "source": [
    "class RFSystem(Element):\n",
    "    '''Radio-frequency system kicking in the longitudinal\n",
    "    direction.\n",
    "    '''\n",
    "    def __init__(self, harmonic, voltage, dphi_offset):\n",
    "        '''Args: harmonic number and the RF voltage are required.\n",
    "        dphi_offset is the phase offset of the RF wave.\n",
    "        '''\n",
    "        self.harmonic = harmonic\n",
    "        self.voltage = voltage\n",
    "        self.dphi_offset = dphi_offset\n",
    "\n",
    "    def track(self, beam):\n",
    "        amplitude = np.abs(beam.charge) * self.voltage / (beam.beta * c)\n",
    "        phi = self.harmonic * (2 * np.pi * beam.z / beam.circumference - \n",
    "                               self.dphi_offset)\n",
    "\n",
    "        delta_p = beam.dp * beam.p0\n",
    "        delta_p += amplitude * pm.sin(phi)\n",
    "        # beam.p0 += self.p_increment\n",
    "        beam.dp = delta_p / beam.p0"
   ]
  },
  {
   "cell_type": "code",
   "execution_count": 6,
   "metadata": {},
   "outputs": [],
   "source": [
    "class TransportSegment(Element):\n",
    "    '''Effective segment of the accelerator transporting the beam over \n",
    "    a fraction of the synchrotron, applying linear transverse betatron\n",
    "    rotation and a longitudinal drift.\n",
    "    '''\n",
    "    def __init__(\n",
    "            self, pathlength, alpha_c, dmu0_x, dmu0_y,\n",
    "            # the following ones could also be ignored for the concept:\n",
    "            alpha_x_s0, beta_x_s0, alpha_x_s1, beta_x_s1,\n",
    "            alpha_y_s0, beta_y_s0, alpha_y_s1, beta_y_s1,\n",
    "    ):\n",
    "        '''Args: pathlength is the amount of the synchrotron circumference\n",
    "        which this segment covers. \n",
    "        alpha_c denotes the linear momentum compaction factor.\n",
    "        dmu0_x and dmu0_y denote the bare betatron phase advance\n",
    "        (in units of 2pi dQ) across this segment in the horizontal\n",
    "        and vertical plane, respectively.\n",
    "        alpha_x/y and beta_x/y denote the corresponding optics Twiss\n",
    "        functions for x=horizontal and y=vertical and the subscripts\n",
    "        s0 and s1 stand for initial and final value along the segment.\n",
    "        '''\n",
    "        # longitudinal:\n",
    "        self.pathlength = pathlength\n",
    "        self.alpha_c = alpha_c\n",
    "        # horizontal:\n",
    "        self.alpha_x_s0 = alpha_x_s0\n",
    "        self.alpha_x_s1 = alpha_x_s1\n",
    "        self.beta_x_s0 = beta_x_s0\n",
    "        self.beta_x_s1 = beta_x_s1\n",
    "        # vertical:\n",
    "        self.alpha_y_s0 = alpha_y_s0\n",
    "        self.alpha_y_s1 = alpha_y_s1\n",
    "        self.beta_y_s0 = beta_y_s0\n",
    "        self.beta_y_s1 = beta_y_s1\n",
    "        \n",
    "        # in general transverse\n",
    "        self.dmu0_x = dmu0_x\n",
    "        self.dmu0_y = dmu0_y\n",
    "        # Floquet matrix:\n",
    "        self.I, self.J = _build_segment_map(\n",
    "            alpha_x_s0, beta_x_s0, alpha_x_s1, beta_x_s1,\n",
    "            alpha_y_s0, beta_y_s0, alpha_y_s1, beta_y_s1,\n",
    "        )\n",
    "        \n",
    "    def eta(self, gamma):\n",
    "        return self.alpha_c - gamma**-2\n",
    "\n",
    "    def track(self, beam):\n",
    "        # longitudinal drift:\n",
    "        beam.z -= self.eta(beam.gamma) * beam.dp * self.pathlength\n",
    "        # transverse rotation:\n",
    "        (M00, M01, M10, M11,\n",
    "         M22, M23, M32, M33) = self.assemble_betatron_matrix(beam)\n",
    "        x = M00 * beam.x + M01 * beam.xp\n",
    "        xp = M10 * beam.x + M11 * beam.xp\n",
    "        y = M22 * beam.y + M23 * beam.yp\n",
    "        yp = M32 * beam.y + M33 * beam.yp\n",
    "        beam.x = x\n",
    "        beam.y = y\n",
    "        beam.xp = xp\n",
    "        beam.yp = yp\n",
    "    \n",
    "    def assemble_betatron_matrix(self, beam):\n",
    "        dmu_x = self.dmu0_x\n",
    "        dmu_y = self.dmu0_y\n",
    "        \n",
    "        # detuning still missing! --> detuning stuff / 2*np.pi\n",
    "        \n",
    "        s_x = pm.sin(dmu_x)\n",
    "        c_x = pm.cos(dmu_x)\n",
    "        s_y = pm.sin(dmu_y)\n",
    "        c_y = pm.cos(dmu_y)\n",
    "        \n",
    "        M00 = self.I[0, 0] * c_x + self.J[0, 0] * s_x\n",
    "        M01 = self.I[0, 1] * c_x + self.J[0, 1] * s_x\n",
    "        M10 = self.I[1, 0] * c_x + self.J[1, 0] * s_x\n",
    "        M11 = self.I[1, 1] * c_x + self.J[1, 1] * s_x\n",
    "        M22 = self.I[2, 2] * c_y + self.J[2, 2] * s_y\n",
    "        M23 = self.I[2, 3] * c_y + self.J[2, 3] * s_y\n",
    "        M32 = self.I[3, 2] * c_y + self.J[3, 2] * s_y\n",
    "        M33 = self.I[3, 3] * c_y + self.J[3, 3] * s_y\n",
    "        return M00, M01, M10, M11, M22, M23, M32, M33\n",
    "\n",
    "def _build_segment_map(alpha_x_s0, beta_x_s0, alpha_x_s1, beta_x_s1,\n",
    "                       alpha_y_s0, beta_y_s0, alpha_y_s1, beta_y_s1):\n",
    "    '''Calculate Floquet transformation matrices I and J which only\n",
    "    depend on the TWISS parameters at the boundaries of the\n",
    "    accelerator segment.\n",
    "    alpha_x/y and beta_x/y denote the corresponding optics Twiss\n",
    "    functions for x=horizontal and y=vertical and the subscripts\n",
    "    s0 and s1 stand for initial and final value along the segment.\n",
    "    '''\n",
    "    I = np.zeros((4, 4))\n",
    "    J = np.zeros((4, 4))\n",
    "\n",
    "    # Sine component.\n",
    "    I[0, 0] = np.sqrt(beta_x_s1 / beta_x_s0)\n",
    "    I[0, 1] = 0.\n",
    "    I[1, 0] = (np.sqrt(1. / (beta_x_s0 * beta_x_s1)) *\n",
    "               (alpha_x_s0 - alpha_x_s1))\n",
    "    I[1, 1] = np.sqrt(beta_x_s0 / beta_x_s1)\n",
    "    I[2, 2] = np.sqrt(beta_y_s1 / beta_y_s0)\n",
    "    I[2, 3] = 0.\n",
    "    I[3, 2] = (np.sqrt(1. / (beta_y_s0 * beta_y_s1)) *\n",
    "               (alpha_y_s0 - alpha_y_s1))\n",
    "    I[3, 3] = np.sqrt(beta_y_s0 / beta_y_s1)\n",
    "\n",
    "    # Cosine component.\n",
    "    J[0, 0] = np.sqrt(beta_x_s1 / beta_x_s0) * alpha_x_s0\n",
    "    J[0, 1] = np.sqrt(beta_x_s0 * beta_x_s1)\n",
    "    J[1, 0] = -(np.sqrt(1. / (beta_x_s0 * beta_x_s1)) *\n",
    "                (1. + alpha_x_s0 * alpha_x_s1))\n",
    "    J[1, 1] = -np.sqrt(beta_x_s0 / beta_x_s1) * alpha_x_s1\n",
    "    J[2, 2] = np.sqrt(beta_y_s1 / beta_y_s0) * alpha_y_s0\n",
    "    J[2, 3] = np.sqrt(beta_y_s0 * beta_y_s1)\n",
    "    J[3, 2] = -(np.sqrt(1. / (beta_y_s0 * beta_y_s1)) *\n",
    "                (1. + alpha_y_s0 * alpha_y_s1))\n",
    "    J[3, 3] = -np.sqrt(beta_y_s0 / beta_y_s1) * alpha_y_s1\n",
    "    \n",
    "    return I, J"
   ]
  },
  {
   "cell_type": "markdown",
   "metadata": {},
   "source": [
    "### 4. Collective effects"
   ]
  },
  {
   "cell_type": "markdown",
   "metadata": {},
   "source": [
    "Electromagnetic interaction between the macro-particles is often implemented by a discretisation of the beam distribution into coarsely distributed grid points. Then the physics are solved on this regular grid (typically with a Green's function type approach) and interpolated back to yield the kicks of the macro-particles."
   ]
  },
  {
   "cell_type": "markdown",
   "metadata": {},
   "source": [
    "#### Wakefield"
   ]
  },
  {
   "cell_type": "markdown",
   "metadata": {},
   "source": [
    "##### (i.) Slicing"
   ]
  },
  {
   "cell_type": "markdown",
   "metadata": {},
   "source": [
    "Wakefields require a longitudinal discretisation of the beam into slices. Each of these slices needs a mean value per transverse plane `x` and `y` of the contained particles:"
   ]
  },
  {
   "cell_type": "code",
   "execution_count": 7,
   "metadata": {},
   "outputs": [],
   "source": [
    "class SliceSet(object):\n",
    "    '''Container of slices with the histogram and statistics\n",
    "    for each slice.\n",
    "    '''\n",
    "    def __init__(self, z_bins, n_macroparticles_per_slice, \n",
    "                 slice_index_of_particle, mean_x, mean_y):\n",
    "        self.n_slices = len(n_macroparticles_per_slice)\n",
    "        self.z_bins = z_bins\n",
    "        self.n_macroparticles_per_slice = n_macroparticles_per_slice\n",
    "        self.slice_index_of_particle = slice_index_of_particle\n",
    "        self.mean_x = mean_x\n",
    "        self.mean_y = mean_y\n",
    "\n",
    "    def convert_to_particles(self, slice_array):\n",
    "        '''Distribute slice_array entries with values per slice\n",
    "        to particles based on which particle sits in which slice.\n",
    "        All particles outside of z_bins are assigned 0.\n",
    "        '''\n",
    "        ids = self.slice_index_of_particle\n",
    "        particle_array = pm.zeros(ids.shape, dtype=np.float64)\n",
    "        p_id = pm.where((0 <= ids) & (ids < self.n_slices))[0]\n",
    "        s_id = pm.take(ids, p_id)\n",
    "        particle_array[p_id] = pm.take(slice_array, s_id)\n",
    "        return particle_array\n",
    "\n",
    "class Slicer(object):\n",
    "    '''Longitudinally slices up the beam into uniform bins (slices)\n",
    "    and computes distribution statistics for each slice.\n",
    "    '''\n",
    "    def __init__(self, n_slices, z_min, z_max):\n",
    "        '''Args: The slicing interval along z is defined by (z_min, z_max),\n",
    "        along which n_slices longitudinal bins are distributed.\n",
    "        '''\n",
    "        self.n_slices = n_slices\n",
    "        self.z_min, self.z_max = z_min, z_max\n",
    "        \n",
    "    def slice(self, beam):\n",
    "        '''Factory method for SliceSets, computing discretisation and\n",
    "        statistics.\n",
    "        '''\n",
    "        z_bins = pm.linspace(self.z_min, self.z_max, self.n_slices + 1)\n",
    "        hist, _ = pm.histogram(beam.z, bins=z_bins) # _ == z_bins\n",
    "        ids = self.particles_to_slices(beam)\n",
    "        mean_x, mean_y = self.compute_means(ids, beam.x, beam.y)\n",
    "        return SliceSet(\n",
    "            z_bins=z_bins,\n",
    "            n_macroparticles_per_slice=hist,\n",
    "            slice_index_of_particle=ids,\n",
    "            mean_x=mean_x,\n",
    "            mean_y=mean_y,\n",
    "        )\n",
    "\n",
    "    def particles_to_slices(self, beam):\n",
    "        '''Compute and return slice id for each particle.'''\n",
    "        ids = (beam.z - self.z_min) * self.n_slices // (self.z_max - self.z_min)\n",
    "        return ids.astype(np.int32)\n",
    "\n",
    "    def compute_means(self, slice_index_of_particle, x, y):\n",
    "        mean_x = pm.zeros(self.n_slices, dtype=np.float64)\n",
    "        mean_y = pm.zeros(self.n_slices, dtype=np.float64)\n",
    "        for i in range(self.n_slices):\n",
    "            p_id = pm.where(slice_index_of_particle == i)[0]\n",
    "            if any(p_id):\n",
    "                mean_x[i] = pm.mean(x[p_id])\n",
    "                mean_y[i] = pm.mean(y[p_id])\n",
    "        return mean_x, mean_y"
   ]
  },
  {
   "cell_type": "markdown",
   "metadata": {},
   "source": [
    "##### (ii.) Broadband resonator"
   ]
  },
  {
   "cell_type": "code",
   "execution_count": 8,
   "metadata": {},
   "outputs": [],
   "source": [
    "class BroadBandResonator(object):\n",
    "    '''Applies the transverse dipolar wakefield of a circular\n",
    "    broad-band resonator to the beam.\n",
    "    '''\n",
    "    def __init__(self, slicer, R_shunt, frequency, Q):\n",
    "        '''Args: shunt impedance R_shunt, frequency and quality factor Q\n",
    "        of a circular broad-band resonator are required.\n",
    "        The slicer contains the longitudinal discretisation parameters.\n",
    "        '''\n",
    "        self.slicer = slicer\n",
    "        self.Q = Q\n",
    "        \n",
    "        omega = 2 * np.pi * frequency\n",
    "        \n",
    "        self.prefactor = R_shunt * omega**2 / Q\n",
    "        self.alpha = omega / (2 * Q)\n",
    "        self.omegabar = pm.sqrt(pm.abs(omega**2 - self.alpha**2))\n",
    "\n",
    "    def track(self, beam):\n",
    "        slices = self.slicer.slice(beam)\n",
    "        \n",
    "        kick_factor = self.kick_factor(beam)\n",
    "        \n",
    "        # Green's function\n",
    "        wake = self.extract_wake(slices)\n",
    "        \n",
    "        # slice quantities\n",
    "        moment_x = slices.n_macroparticles_per_slice * slices.mean_x\n",
    "        moment_y = slices.n_macroparticles_per_slice * slices.mean_y\n",
    "        kicks_x = pm.convolve(moment_x, wake) * kick_factor\n",
    "        kicks_y = pm.convolve(moment_y, wake) * kick_factor\n",
    "        \n",
    "        beam.xp += slices.convert_to_particles(kicks_x)\n",
    "        beam.yp += slices.convert_to_particles(kicks_y)\n",
    "    \n",
    "    def wake_function(self, dt_to_target_slice):\n",
    "        '''Resonator formula from A. Chao (Eq. 2.82).'''\n",
    "        dt = pm.clip(dt_to_target_slice, a_min=None, a_max=0)\n",
    "        y = self.prefactor * pm.exp(self.alpha * dt)\n",
    "        if self.Q > 0.5:\n",
    "            y *= pm.sin(self.omegabar * dt) / self.omegabar\n",
    "        elif self.Q == 0.5:\n",
    "            y *= dt\n",
    "        else:\n",
    "            y *= pm.sinh(self.omegabar * dt) / self.omegabar\n",
    "        return y\n",
    "    \n",
    "    def extract_wake(self, slices):\n",
    "        s = slices\n",
    "        z_centers = s.z_bins[:-1] + 0.5 * (s.z_bins[1:] - s.z_bins[:-1])\n",
    "        dt = z_centers / (beam.beta * c)\n",
    "        \n",
    "        dt_to_target_slice = pm.concatenate(\n",
    "            (dt - dt[-1], (dt - dt[0])[1:]))\n",
    "        \n",
    "        return self.wake_function(dt_to_target_slice)\n",
    "    \n",
    "    @staticmethod\n",
    "    def kick_factor(beam):\n",
    "        return (-(beam.charge)**2 / (beam.p0 * beam.beta * c) * \n",
    "                beam.particlenumber_per_mp)"
   ]
  },
  {
   "cell_type": "markdown",
   "metadata": {},
   "source": [
    "## II. Let's set up a \"user\" simulation"
   ]
  },
  {
   "cell_type": "code",
   "execution_count": 9,
   "metadata": {},
   "outputs": [],
   "source": [
    "import matplotlib.pyplot as plt\n",
    "%matplotlib inline"
   ]
  },
  {
   "cell_type": "markdown",
   "metadata": {},
   "source": [
    "Creating the beam instance as a Gaussian distribution with $1\\,000\\,000$ macro-particles:"
   ]
  },
  {
   "cell_type": "code",
   "execution_count": 10,
   "metadata": {},
   "outputs": [],
   "source": [
    "def get_beam(n_mp=int(1e6), seed=1500000000):\n",
    "    np.random.seed(seed)\n",
    "    x = np.random.normal(scale=1e-3, size=n_mp)\n",
    "    xp = np.random.normal(scale=1e-3, size=n_mp)\n",
    "    y = np.random.normal(scale=1e-3, size=n_mp)\n",
    "    yp = np.random.normal(scale=1e-3, size=n_mp)\n",
    "    z = np.random.normal(scale=0.05, size=n_mp)\n",
    "    dp = np.random.normal(scale=1e-4, size=n_mp)\n",
    "\n",
    "    beam = Particles(x, xp, y, yp, z, dp, \n",
    "                     intensity=4e11, gamma=26, \n",
    "                     circumference=1100*2*np.pi)\n",
    "    return beam\n",
    "\n",
    "beam = get_beam()"
   ]
  },
  {
   "cell_type": "markdown",
   "metadata": {},
   "source": [
    "### II. 1. Just the tracking without multi-particle interaction"
   ]
  },
  {
   "cell_type": "markdown",
   "metadata": {},
   "source": [
    "Creating the one turn map around the accelerator ring with some physics parameters:"
   ]
  },
  {
   "cell_type": "code",
   "execution_count": 11,
   "metadata": {},
   "outputs": [],
   "source": [
    "harmonic = 4620\n",
    "voltage = 4.5e6\n",
    "alpha_c = 18**-2\n",
    "\n",
    "Q_x = 20.2\n",
    "Q_y = 20.18"
   ]
  },
  {
   "cell_type": "code",
   "execution_count": 12,
   "metadata": {},
   "outputs": [],
   "source": [
    "half_betatron_map = TransportSegment(\n",
    "    beam.circumference / 2, alpha_c, \n",
    "    2*np.pi * Q_x / 2, 2*np.pi * Q_y / 2, \n",
    "    0, 1, 0, 1, 0, 1, 0, 1)\n",
    "\n",
    "rf_systems = RFSystem(harmonic, voltage, dphi_offset=0)"
   ]
  },
  {
   "cell_type": "code",
   "execution_count": 13,
   "metadata": {},
   "outputs": [],
   "source": [
    "one_turn_map = [half_betatron_map, rf_systems, half_betatron_map]"
   ]
  },
  {
   "cell_type": "markdown",
   "metadata": {},
   "source": [
    "Some sanity checks:"
   ]
  },
  {
   "cell_type": "code",
   "execution_count": 14,
   "metadata": {},
   "outputs": [
    {
     "name": "stdout",
     "output_type": "stream",
     "text": [
      "[[1. 0. 0. 0.]\n",
      " [0. 1. 0. 0.]\n",
      " [0. 0. 1. 0.]\n",
      " [0. 0. 0. 1.]]\n",
      "\n",
      "[[ 0.  1.  0.  0.]\n",
      " [-1. -0.  0.  0.]\n",
      " [ 0.  0.  0.  1.]\n",
      " [ 0.  0. -1. -0.]]\n"
     ]
    }
   ],
   "source": [
    "rot_mat = half_betatron_map.assemble_betatron_matrix(beam)\n",
    "\n",
    "assert 1 == np.linalg.det(\n",
    "    np.matrix(rot_mat[:4]).reshape((2, 2)))\n",
    "\n",
    "assert 1 == np.linalg.det(\n",
    "    np.matrix(rot_mat[4:]).reshape((2, 2)))\n",
    "\n",
    "print (half_betatron_map.I)\n",
    "print ('')\n",
    "print (half_betatron_map.J)"
   ]
  },
  {
   "cell_type": "code",
   "execution_count": 15,
   "metadata": {},
   "outputs": [],
   "source": [
    "beam = get_beam()"
   ]
  },
  {
   "cell_type": "markdown",
   "metadata": {},
   "source": [
    "Going for the actual simulation, recording the beam sizes at each turn:"
   ]
  },
  {
   "cell_type": "code",
   "execution_count": 16,
   "metadata": {},
   "outputs": [],
   "source": [
    "n_turns = 100\n",
    "\n",
    "sigma_x = np.empty(n_turns, dtype=float)\n",
    "sigma_y = np.empty_like(sigma_x)\n",
    "sigma_z = np.empty_like(sigma_x)\n",
    "\n",
    "# not strictly needed here, but just to show the principle of context management:\n",
    "with CPU(beam):\n",
    "    # TRACKING!\n",
    "    for turn in range(n_turns):\n",
    "        for el in one_turn_map:\n",
    "            el.track(beam)\n",
    "            sigma_x[turn] = beam.sigma_x()\n",
    "            sigma_y[turn] = beam.sigma_y()\n",
    "            sigma_z[turn] = beam.sigma_z()"
   ]
  },
  {
   "cell_type": "code",
   "execution_count": 17,
   "metadata": {},
   "outputs": [
    {
     "data": {
      "image/png": "[encoded data removed]",
      "text/plain": [
       "<Figure size 432x288 with 2 Axes>"
      ]
     },
     "metadata": {
      "needs_background": "light"
     },
     "output_type": "display_data"
    }
   ],
   "source": [
    "plt.plot(sigma_x)\n",
    "plt.plot(sigma_y, color='lightgreen')\n",
    "plt.xlabel('turns')\n",
    "plt.ylabel('transverse beam size')\n",
    "plt.twinx()\n",
    "plt.plot(sigma_z, color='red')\n",
    "for l in plt.gca().get_yticklabels():\n",
    "    l.set_color('red')\n",
    "plt.ylabel('longitudinal beam size', color='red');"
   ]
  },
  {
   "cell_type": "markdown",
   "metadata": {},
   "source": [
    "### II. 2. Tracking with wakefields"
   ]
  },
  {
   "cell_type": "code",
   "execution_count": 18,
   "metadata": {},
   "outputs": [],
   "source": [
    "slicer = Slicer(n_slices=500, z_min=-1, z_max=1)\n",
    "\n",
    "resonator = BroadBandResonator(slicer, R_shunt=7e6, frequency=1.3e9, Q=1)"
   ]
  },
  {
   "cell_type": "code",
   "execution_count": 19,
   "metadata": {},
   "outputs": [],
   "source": [
    "beam = get_beam()"
   ]
  },
  {
   "cell_type": "code",
   "execution_count": 20,
   "metadata": {},
   "outputs": [],
   "source": [
    "xp0 = beam.xp.copy()\n",
    "resonator.track(beam)\n",
    "xp1 = beam.xp.copy()"
   ]
  },
  {
   "cell_type": "code",
   "execution_count": 21,
   "metadata": {},
   "outputs": [
    {
     "data": {
      "text/plain": [
       "<matplotlib.collections.PathCollection at 0x7f78b2adaf10>"
      ]
     },
     "execution_count": 21,
     "metadata": {},
     "output_type": "execute_result"
    },
    {
     "data": {
      "image/png": "[encoded data removed]",
      "text/plain": [
       "<Figure size 432x288 with 1 Axes>"
      ]
     },
     "metadata": {
      "needs_background": "light"
     },
     "output_type": "display_data"
    }
   ],
   "source": [
    "plt.scatter(beam.z[::100], 1e6*(xp1 - xp0)[::100])"
   ]
  },
  {
   "cell_type": "code",
   "execution_count": 22,
   "metadata": {},
   "outputs": [],
   "source": [
    "one_turn_map_with_wf = one_turn_map + [resonator]"
   ]
  },
  {
   "cell_type": "code",
   "execution_count": 23,
   "metadata": {},
   "outputs": [],
   "source": [
    "beam = get_beam()"
   ]
  },
  {
   "cell_type": "code",
   "execution_count": 24,
   "metadata": {},
   "outputs": [],
   "source": [
    "n_turns = 100\n",
    "\n",
    "mean_x = np.empty(n_turns, dtype=float)\n",
    "mean_y = np.empty_like(mean_x)\n",
    "mean_z = np.empty_like(mean_x)\n",
    "\n",
    "with CPU(beam):\n",
    "    # TRACKING!\n",
    "    for turn in range(n_turns):\n",
    "        for el in one_turn_map_with_wf:\n",
    "            el.track(beam)\n",
    "            mean_x[turn] = beam.mean_x()\n",
    "            mean_y[turn] = beam.mean_y()\n",
    "            mean_z[turn] = beam.mean_z()"
   ]
  },
  {
   "cell_type": "code",
   "execution_count": 25,
   "metadata": {},
   "outputs": [
    {
     "data": {
      "text/plain": [
       "Text(0,0.5,'longitudinal centroid')"
      ]
     },
     "execution_count": 25,
     "metadata": {},
     "output_type": "execute_result"
    },
    {
     "data": {
      "image/png": "[encoded data removed]",
      "text/plain": [
       "<Figure size 432x288 with 2 Axes>"
      ]
     },
     "metadata": {
      "needs_background": "light"
     },
     "output_type": "display_data"
    }
   ],
   "source": [
    "plt.plot(mean_x)\n",
    "plt.plot(mean_y, color='lightgreen')\n",
    "plt.xlabel('turns')\n",
    "plt.ylabel('transverse centroid')\n",
    "plt.twinx()\n",
    "plt.plot(mean_z, color='red')\n",
    "for l in plt.gca().get_yticklabels():\n",
    "    l.set_color('red')\n",
    "plt.ylabel('longitudinal centroid', color='red')"
   ]
  },
  {
   "cell_type": "code",
   "execution_count": 26,
   "metadata": {},
   "outputs": [
    {
     "data": {
      "text/plain": [
       "<matplotlib.lines.Line2D at 0x7f78b29dda50>"
      ]
     },
     "execution_count": 26,
     "metadata": {},
     "output_type": "execute_result"
    },
    {
     "data": {
      "image/png": "[encoded data removed]",
      "text/plain": [
       "<Figure size 432x288 with 1 Axes>"
      ]
     },
     "metadata": {
      "needs_background": "light"
     },
     "output_type": "display_data"
    }
   ],
   "source": [
    "plt.plot(np.fft.rfftfreq(len(mean_x)), np.abs(np.fft.rfft(mean_x)))\n",
    "plt.axvline(Q_x % 1)"
   ]
  },
  {
   "cell_type": "markdown",
   "metadata": {},
   "source": [
    "## III. Some profiling of such a wakefield simulation"
   ]
  },
  {
   "cell_type": "code",
   "execution_count": 27,
   "metadata": {},
   "outputs": [],
   "source": [
    "%load_ext line_profiler"
   ]
  },
  {
   "cell_type": "code",
   "execution_count": 28,
   "metadata": {},
   "outputs": [],
   "source": [
    "def track_one_turn():\n",
    "    for el in one_turn_map_with_wf:\n",
    "        el.track(beam)"
   ]
  },
  {
   "cell_type": "code",
   "execution_count": 29,
   "metadata": {},
   "outputs": [
    {
     "name": "stdout",
     "output_type": "stream",
     "text": [
      " "
     ]
    }
   ],
   "source": [
    "routput = %%prun -r track_one_turn()"
   ]
  },
  {
   "cell_type": "code",
   "execution_count": 30,
   "metadata": {},
   "outputs": [
    {
     "name": "stdout",
     "output_type": "stream",
     "text": [
      "         3635 function calls in 0.386 seconds\n",
      "\n",
      "   Ordered by: cumulative time\n",
      "   List reduced from 68 to 40 due to restriction <40>\n",
      "\n",
      "   ncalls  tottime  percall  cumtime  percall filename:lineno(function)\n",
      "        1    0.000    0.000    0.386    0.386 <string>:1(<module>)\n",
      "        1    0.000    0.000    0.386    0.386 <ipython-input-28-544209456374>:1(track_one_turn)\n",
      "        1    0.002    0.002    0.372    0.372 <ipython-input-8-f2a126cf6ed5>:19(track)\n",
      "        1    0.000    0.000    0.338    0.338 <ipython-input-7-e0abf0484af8>:37(slice)\n",
      "        1    0.113    0.113    0.184    0.184 <ipython-input-7-e0abf0484af8>:58(compute_means)\n",
      "        1    0.000    0.000    0.085    0.085 histograms.py:597(histogram)\n",
      "       16    0.000    0.000    0.084    0.005 fromnumeric.py:760(sort)\n",
      "       16    0.082    0.005    0.082    0.005 {method 'sort' of 'numpy.ndarray' objects}\n",
      "      502    0.073    0.000    0.073    0.000 {numpy.core.multiarray.where}\n",
      "        1    0.067    0.067    0.069    0.069 <ipython-input-7-e0abf0484af8>:53(particles_to_slices)\n",
      "        2    0.007    0.004    0.032    0.016 <ipython-input-7-e0abf0484af8>:14(convert_to_particles)\n",
      "        5    0.000    0.000    0.016    0.003 fromnumeric.py:49(_wrapfunc)\n",
      "        4    0.000    0.000    0.016    0.004 fromnumeric.py:86(take)\n",
      "        4    0.016    0.004    0.016    0.004 {method 'take' of 'numpy.ndarray' objects}\n",
      "        2    0.008    0.004    0.008    0.004 <ipython-input-6-a206655169e2>:48(track)\n",
      "        1    0.006    0.006    0.006    0.006 <ipython-input-5-1931593b0407>:13(track)\n",
      "      198    0.001    0.000    0.005    0.000 fromnumeric.py:2817(mean)\n",
      "      198    0.001    0.000    0.004    0.000 _methods.py:58(_mean)\n",
      "        2    0.002    0.001    0.002    0.001 {method 'astype' of 'numpy.ndarray' objects}\n",
      "        5    0.002    0.000    0.002    0.000 {numpy.core.multiarray.zeros}\n",
      "      199    0.002    0.000    0.002    0.000 {method 'reduce' of 'numpy.ufunc' objects}\n",
      "       16    0.002    0.000    0.002    0.000 {method 'copy' of 'numpy.ndarray' objects}\n",
      "      198    0.000    0.000    0.001    0.000 _methods.py:48(_count_reduce_items)\n",
      "      500    0.001    0.000    0.001    0.000 {any}\n",
      "       16    0.000    0.000    0.000    0.000 histograms.py:391(_search_sorted_inclusive)\n",
      "      200    0.000    0.000    0.000    0.000 {range}\n",
      "       32    0.000    0.000    0.000    0.000 {method 'searchsorted' of 'numpy.ndarray' objects}\n",
      "      217    0.000    0.000    0.000    0.000 numeric.py:504(asanyarray)\n",
      "        1    0.000    0.000    0.000    0.000 <ipython-input-8-f2a126cf6ed5>:48(extract_wake)\n",
      "      400    0.000    0.000    0.000    0.000 {isinstance}\n",
      "        2    0.000    0.000    0.000    0.000 numeric.py:950(convolve)\n",
      "        1    0.000    0.000    0.000    0.000 <ipython-input-8-f2a126cf6ed5>:36(wake_function)\n",
      "        2    0.000    0.000    0.000    0.000 {numpy.core.multiarray.correlate}\n",
      "        1    0.000    0.000    0.000    0.000 function_base.py:25(linspace)\n",
      "      396    0.000    0.000    0.000    0.000 {issubclass}\n",
      "      198    0.000    0.000    0.000    0.000 {hasattr}\n",
      "       17    0.000    0.000    0.000    0.000 {numpy.core.multiarray.concatenate}\n",
      "        1    0.000    0.000    0.000    0.000 fromnumeric.py:1764(clip)\n",
      "      223    0.000    0.000    0.000    0.000 {numpy.core.multiarray.array}\n",
      "        1    0.000    0.000    0.000    0.000 histograms.py:297(_get_bin_edges)\n",
      "\n",
      "\n"
     ]
    },
    {
     "data": {
      "text/plain": [
       "<pstats.Stats instance at 0x7f78b7493440>"
      ]
     },
     "execution_count": 30,
     "metadata": {},
     "output_type": "execute_result"
    }
   ],
   "source": [
    "routput.sort_stats(2).print_stats(40)"
   ]
  },
  {
   "cell_type": "code",
   "execution_count": 31,
   "metadata": {},
   "outputs": [],
   "source": [
    "lproutput = %%lprun -r -f Slicer.slice track_one_turn()"
   ]
  },
  {
   "cell_type": "code",
   "execution_count": 32,
   "metadata": {},
   "outputs": [
    {
     "name": "stdout",
     "output_type": "stream",
     "text": [
      "Timer unit: 1e-06 s\n",
      "\n",
      "Total time: 0.368604 s\n",
      "File: <ipython-input-7-e0abf0484af8>\n",
      "Function: slice at line 37\n",
      "\n",
      "Line #      Hits         Time  Per Hit   % Time  Line Contents\n",
      "==============================================================\n",
      "    37                                               def slice(self, beam):\n",
      "    38                                                   '''Factory method for SliceSets, computing discretisation and\n",
      "    39                                                   statistics.\n",
      "    40                                                   '''\n",
      "    41         1          150    150.0      0.0          z_bins = pm.linspace(self.z_min, self.z_max, self.n_slices + 1)\n",
      "    42         1       103612 103612.0     28.1          hist, _ = pm.histogram(beam.z, bins=z_bins) # _ == z_bins\n",
      "    43         1        82276  82276.0     22.3          ids = self.particles_to_slices(beam)\n",
      "    44         1       182552 182552.0     49.5          mean_x, mean_y = self.compute_means(ids, beam.x, beam.y)\n",
      "    45         1            2      2.0      0.0          return SliceSet(\n",
      "    46         1            0      0.0      0.0              z_bins=z_bins,\n",
      "    47         1            1      1.0      0.0              n_macroparticles_per_slice=hist,\n",
      "    48         1            0      0.0      0.0              slice_index_of_particle=ids,\n",
      "    49         1            1      1.0      0.0              mean_x=mean_x,\n",
      "    50         1           10     10.0      0.0              mean_y=mean_y,\n",
      "    51                                                   )\n",
      "\n"
     ]
    }
   ],
   "source": [
    "lproutput.print_stats()"
   ]
  },
  {
   "cell_type": "markdown",
   "metadata": {},
   "source": [
    "$\\implies$ the biggest part of the time is spent on computing the slice statistics for this rather ignorant and straight forward `numpy` based implementation..."
   ]
  },
  {
   "cell_type": "markdown",
   "metadata": {},
   "source": [
    "## IV. Some approaches to speed up"
   ]
  },
  {
   "cell_type": "markdown",
   "metadata": {},
   "source": [
    "### IV. 1. Using cython for statistics functions -- as implemented in real PyHEADTAIL"
   ]
  },
  {
   "cell_type": "markdown",
   "metadata": {},
   "source": [
    "The statistics functions are typically called quite often and run much faster on the CPU by using `Cython`.\n",
    "\n",
    "Let's implement the whole distribution statistics first to demonstrate the principle:"
   ]
  },
  {
   "cell_type": "code",
   "execution_count": 33,
   "metadata": {},
   "outputs": [],
   "source": [
    "%load_ext Cython"
   ]
  },
  {
   "cell_type": "markdown",
   "metadata": {},
   "source": [
    "#### a. Entire beam statistics"
   ]
  },
  {
   "cell_type": "code",
   "execution_count": 34,
   "metadata": {},
   "outputs": [],
   "source": [
    "%%cython --compile-args=-fopenmp --link-args=-fopenmp -n cython_functions\n",
    "import numpy as np\n",
    "cimport numpy as np\n",
    "cimport libc.math as cmath\n",
    "\n",
    "cimport cython.boundscheck\n",
    "cimport cython.cdivision\n",
    "cimport cython.wraparound\n",
    "\n",
    "@cython.boundscheck(False)\n",
    "@cython.cdivision(True)\n",
    "cpdef double cov(double[::1] a, double[::1] b):\n",
    "    cdef unsigned int n = a.shape[0]\n",
    "    if n < 2:\n",
    "        return 0.\n",
    "    cdef double shift_a = a[0]\n",
    "    cdef double shift_b = b[0]\n",
    "    cdef double a_sum = 0.\n",
    "    cdef double b_sum = 0.\n",
    "    cdef double ab_sum = 0.\n",
    "    cdef unsigned int i\n",
    "    for i in xrange(n):\n",
    "        a_sum += a[i] - shift_a\n",
    "        b_sum += b[i] - shift_b\n",
    "        ab_sum += (a[i] - shift_a) * (b[i] - shift_b)\n",
    "    return (ab_sum - a_sum * b_sum / n) / (n - 1)\n",
    "\n",
    "\n",
    "@cython.boundscheck(False)\n",
    "@cython.cdivision(True)\n",
    "cpdef double std(double[::1] u):\n",
    "    return cmath.sqrt(cov(u, u))\n",
    "\n",
    "\n",
    "@cython.boundscheck(False)\n",
    "@cython.cdivision(True)\n",
    "cpdef double emittance_geo(double[::1] u, double[::1] up):\n",
    "    covariance = cov\n",
    "    cdef double sigma11 = 0.\n",
    "    cdef double sigma12 = 0.\n",
    "    cdef double sigma22 = 0.\n",
    "    cdef double cov_u2 = covariance(u, u)\n",
    "    cdef double cov_up2 = covariance(up, up)\n",
    "    cdef double cov_u_up = covariance(up, u)\n",
    "    cdef double cov_u_dp = 0.\n",
    "    cdef double cov_up_dp = 0.\n",
    "    cdef double cov_dp2 = 1.\n",
    "\n",
    "    sigma11 = cov_u2\n",
    "    sigma12 = cov_u_up\n",
    "    sigma22 = cov_up2\n",
    "\n",
    "    return cmath.sqrt(sigma11 * sigma22 - sigma12 * sigma12)"
   ]
  },
  {
   "cell_type": "markdown",
   "metadata": {},
   "source": [
    "So let's make use of the just cythonised statistics functions and define a context manager using them:"
   ]
  },
  {
   "cell_type": "code",
   "execution_count": 35,
   "metadata": {},
   "outputs": [],
   "source": [
    "import cython_functions\n",
    "\n",
    "cython_dict = cpu_dict.copy()\n",
    "cython_dict.update(dict(\n",
    "    cov=cython_functions.cov,\n",
    "    std=cython_functions.std,\n",
    "    emittance_geo=cython_functions.emittance_geo,\n",
    "))"
   ]
  },
  {
   "cell_type": "code",
   "execution_count": 36,
   "metadata": {},
   "outputs": [],
   "source": [
    "class CPU_Cython(CPU):\n",
    "    '''CPU context manager working with the numpy library\n",
    "    and some cythonised functions for the beam statistics.\n",
    "    '''\n",
    "    def __enter__(self):\n",
    "        # moving data to device\n",
    "        for attr in self.to_move:\n",
    "            coord = getattr(self.beam, attr)\n",
    "            transferred = np.asarray(coord)\n",
    "            setattr(self.beam, attr, transferred)\n",
    "\n",
    "        # replace functions in general.math.py\n",
    "        pm.update_active_dict(cython_dict)\n",
    "        return self\n",
    "\n",
    "    def __exit__(self, exc_type, exc_value, traceback):\n",
    "        # here should be moving data back to host\n",
    "        pm.update_active_dict(pm._default_function_dict)"
   ]
  },
  {
   "cell_type": "markdown",
   "metadata": {},
   "source": [
    "So what does the timing say in comparison?"
   ]
  },
  {
   "cell_type": "code",
   "execution_count": 37,
   "metadata": {},
   "outputs": [
    {
     "name": "stdout",
     "output_type": "stream",
     "text": [
      "100 loops, best of 3: 6.63 ms per loop\n"
     ]
    }
   ],
   "source": [
    "%%timeit \n",
    "with CPU(beam):\n",
    "    beam.sigma_x()"
   ]
  },
  {
   "cell_type": "code",
   "execution_count": 38,
   "metadata": {
    "scrolled": true
   },
   "outputs": [
    {
     "name": "stdout",
     "output_type": "stream",
     "text": [
      "1000 loops, best of 3: 1.37 ms per loop\n"
     ]
    }
   ],
   "source": [
    "%%timeit \n",
    "with CPU_Cython(beam):\n",
    "    beam.sigma_x()"
   ]
  },
  {
   "cell_type": "markdown",
   "metadata": {},
   "source": [
    "$\\implies 5\\times$ speed-up with Cython for beam size evaluation"
   ]
  },
  {
   "cell_type": "code",
   "execution_count": 39,
   "metadata": {},
   "outputs": [
    {
     "name": "stdout",
     "output_type": "stream",
     "text": [
      "100 loops, best of 3: 6.72 ms per loop\n"
     ]
    }
   ],
   "source": [
    "%%timeit \n",
    "with CPU(beam):\n",
    "    beam.epsn_x()"
   ]
  },
  {
   "cell_type": "code",
   "execution_count": 40,
   "metadata": {
    "scrolled": true
   },
   "outputs": [
    {
     "name": "stdout",
     "output_type": "stream",
     "text": [
      "100 loops, best of 3: 4.4 ms per loop\n"
     ]
    }
   ],
   "source": [
    "%%timeit \n",
    "with CPU_Cython(beam):\n",
    "    beam.epsn_x()"
   ]
  },
  {
   "cell_type": "markdown",
   "metadata": {},
   "source": [
    "$\\implies 1.5\\times$ speed-up with Cython for emittance evaluation"
   ]
  },
  {
   "cell_type": "markdown",
   "metadata": {},
   "source": [
    "#### b. Slice statistics can be implemented the same way\n",
    "\n",
    "(...) to be implemented"
   ]
  },
  {
   "cell_type": "markdown",
   "metadata": {},
   "source": [
    "### IV. 2. Graphics Processing Unit acceleration: using `cupy` "
   ]
  },
  {
   "cell_type": "markdown",
   "metadata": {},
   "source": [
    "The only function missing in `cupy` to cover all cpu_dict implemented functions is `pm.convolve`. We implement it by going via Fourier space: $a * b = \\mathcal{F}^{-1}\\bigl(\\mathcal{F}(a)\\cdot\\mathcal{F}(b)\\bigr)$"
   ]
  },
  {
   "cell_type": "code",
   "execution_count": 41,
   "metadata": {},
   "outputs": [],
   "source": [
    "def convolve_via_fft(a, b):\n",
    "    if len(b) < len(a):\n",
    "        a, b = b, a\n",
    "    a_padded = pm.zeros(len(b), dtype=np.float64)\n",
    "    # rolled by 1 in order to reproduce np.convolve(mode='valid'):\n",
    "    a_padded[-len(a)+1:] = a[:-1]\n",
    "    a_padded[0] = a[-1] \n",
    "    f1 = pm.fft(a_padded)\n",
    "    f2 = pm.fft(b)\n",
    "    conv = pm.ifft(f1 * f2)\n",
    "    conv = pm.real(conv) # throw away imaginary part (numerical fluctuations around 0)\n",
    "    return conv[:len(a)]"
   ]
  },
  {
   "cell_type": "markdown",
   "metadata": {},
   "source": [
    "Implementation of the context management based on `cupy`:"
   ]
  },
  {
   "cell_type": "code",
   "execution_count": 42,
   "metadata": {},
   "outputs": [],
   "source": [
    "import cupy\n",
    "\n",
    "# references to all relevant methods on GPU via cupy\n",
    "cupy_dict = dict(\n",
    "    sin=cupy.sin,\n",
    "    cos=cupy.cos,\n",
    "    tan=cupy.tan,\n",
    "    exp=cupy.exp,\n",
    "    sinh=cupy.sinh,\n",
    "    cosh=cupy.cosh,\n",
    "    tanh=cupy.tanh,\n",
    "    sqrt=cupy.sqrt,\n",
    "    abs=cupy.abs,\n",
    "    real=np.real,\n",
    "    imag=np.imag,\n",
    "    fft=cupy.fft.fft,\n",
    "    ifft=cupy.fft.ifft,\n",
    "    # voila:\n",
    "    convolve=convolve_via_fft,\n",
    "    \n",
    "    histogram=cupy.histogram,\n",
    "    mean=cupy.mean,\n",
    "    cov=lambda a, b: cupy.cov(a, b)[0, 1],\n",
    "    std=lambda u: cupy.sqrt(cupy_dict['cov'](u, u)),\n",
    "    emittance_geo=lambda u, up: cupy.sqrt(cupy.linalg.det(cupy.cov(u, up))),\n",
    "    empty=cupy.empty,\n",
    "    zeros=cupy.zeros,\n",
    "    linspace=cupy.linspace,\n",
    "    arange=cupy.arange,\n",
    "    take=cupy.take,\n",
    "    where=cupy.where,\n",
    "    concatenate=cupy.concatenate,\n",
    "    clip=cupy.clip,\n",
    ")\n",
    "\n",
    "class GPU_cupy(object):\n",
    "    '''CPU context manager working with the numpy library.\n",
    "    Here just to show the principle.\n",
    "    '''\n",
    "    \n",
    "    def __init__(self, beam):\n",
    "        self.beam = beam\n",
    "        self.to_move = beam.coords_n_momenta\n",
    "\n",
    "    def __enter__(self):\n",
    "        # moving data to device\n",
    "        for attr in self.to_move:\n",
    "            coord = getattr(self.beam, attr)\n",
    "            transferred = cupy.asarray(coord)\n",
    "            setattr(self.beam, attr, transferred)\n",
    "\n",
    "        # replace functions in general.math.py\n",
    "        pm.update_active_dict(cupy_dict)\n",
    "        return self\n",
    "\n",
    "    def __exit__(self, exc_type, exc_value, traceback):\n",
    "        # moving data back to host\n",
    "        for attr in self.to_move:\n",
    "            coord = getattr(self.beam, attr)\n",
    "            transferred = coord.get()\n",
    "            setattr(self.beam, attr, transferred)\n",
    "        pm.update_active_dict(pm._default_function_dict)"
   ]
  },
  {
   "cell_type": "markdown",
   "metadata": {},
   "source": [
    "#### Sanity check for convolve function\n",
    "\n",
    "Let's check on the beam:"
   ]
  },
  {
   "cell_type": "code",
   "execution_count": 43,
   "metadata": {},
   "outputs": [],
   "source": [
    "s = slicer.slice(beam)\n",
    "\n",
    "a = s.mean_x * s.n_macroparticles_per_slice\n",
    "\n",
    "dt = (s.z_bins[:-1] + np.diff(s.z_bins) / 2) / (beam.beta * c)\n",
    "dt_to = pm.concatenate((dt - dt[-1], (dt - dt[0])[1:]))\n",
    "\n",
    "wf = resonator.wake_function(dt_to)"
   ]
  },
  {
   "cell_type": "code",
   "execution_count": 44,
   "metadata": {},
   "outputs": [
    {
     "data": {
      "text/plain": [
       "(-2e-09, 1e-09)"
      ]
     },
     "execution_count": 44,
     "metadata": {},
     "output_type": "execute_result"
    },
    {
     "data": {
      "image/png": "[encoded data removed]",
      "text/plain": [
       "<Figure size 432x288 with 1 Axes>"
      ]
     },
     "metadata": {
      "needs_background": "light"
     },
     "output_type": "display_data"
    }
   ],
   "source": [
    "# wakefield as Green's function:\n",
    "plt.plot(dt_to, wf)\n",
    "plt.xlim(-2e-9, 1e-9)"
   ]
  },
  {
   "cell_type": "markdown",
   "metadata": {},
   "source": [
    "With `numpy` this works fine:"
   ]
  },
  {
   "cell_type": "code",
   "execution_count": 45,
   "metadata": {},
   "outputs": [
    {
     "data": {
      "text/plain": [
       "[<matplotlib.lines.Line2D at 0x7f785c0868d0>]"
      ]
     },
     "execution_count": 45,
     "metadata": {},
     "output_type": "execute_result"
    },
    {
     "data": {
      "image/png": "[encoded data removed]",
      "text/plain": [
       "<Figure size 936x576 with 1 Axes>"
      ]
     },
     "metadata": {
      "needs_background": "light"
     },
     "output_type": "display_data"
    }
   ],
   "source": [
    "plt.figure(figsize=(13, 8))\n",
    "plt.plot(convolve_via_fft(a, wf))\n",
    "plt.plot(pm.convolve(a, wf))"
   ]
  },
  {
   "cell_type": "markdown",
   "metadata": {},
   "source": [
    "And also with `cupy` on the GPU:"
   ]
  },
  {
   "cell_type": "code",
   "execution_count": 46,
   "metadata": {},
   "outputs": [
    {
     "data": {
      "image/png": "[encoded data removed]",
      "text/plain": [
       "<Figure size 936x576 with 1 Axes>"
      ]
     },
     "metadata": {
      "needs_background": "light"
     },
     "output_type": "display_data"
    }
   ],
   "source": [
    "plt.figure(figsize=(13, 8))\n",
    "with GPU_cupy(beam):\n",
    "    try:\n",
    "        a = cupy.asarray(a)\n",
    "        wf = cupy.asarray(wf)\n",
    "        plt.plot(convolve_via_fft(a, wf).get())\n",
    "        plt.plot(pm.convolve(a, wf).get())\n",
    "    finally:\n",
    "        a = a.get()\n",
    "        wf = wf.get()"
   ]
  },
  {
   "cell_type": "markdown",
   "metadata": {},
   "source": [
    "$\\implies$ both the blue and orange curve give the same convolution, for both CPU and GPU FFT implementation (`numpy` and `cupy`), i.e. everything is fine -- `convolve_via_fft` does the same as `np.convolve(mode='valid')`, which is the one we use in PyHEADTAIL."
   ]
  },
  {
   "cell_type": "markdown",
   "metadata": {},
   "source": [
    "#### Let's run a simulation with `cupy`:"
   ]
  },
  {
   "cell_type": "code",
   "execution_count": 47,
   "metadata": {},
   "outputs": [],
   "source": [
    "beam = get_beam()"
   ]
  },
  {
   "cell_type": "code",
   "execution_count": 48,
   "metadata": {},
   "outputs": [],
   "source": [
    "n_turns = 100\n",
    "\n",
    "mean_x = np.empty(n_turns, dtype=float)\n",
    "mean_y = np.empty_like(mean_x)\n",
    "mean_z = np.empty_like(mean_x)\n",
    "\n",
    "with GPU_cupy(beam):\n",
    "    # TRACKING!\n",
    "    for turn in range(n_turns):\n",
    "        for el in one_turn_map_with_wf:\n",
    "            el.track(beam)\n",
    "            mean_x[turn] = beam.mean_x()\n",
    "            mean_y[turn] = beam.mean_y()\n",
    "            mean_z[turn] = beam.mean_z()"
   ]
  },
  {
   "cell_type": "code",
   "execution_count": 49,
   "metadata": {},
   "outputs": [
    {
     "data": {
      "text/plain": [
       "Text(0,0.5,'longitudinal centroid')"
      ]
     },
     "execution_count": 49,
     "metadata": {},
     "output_type": "execute_result"
    },
    {
     "data": {
      "image/png": "[encoded data removed]",
      "text/plain": [
       "<Figure size 432x288 with 2 Axes>"
      ]
     },
     "metadata": {
      "needs_background": "light"
     },
     "output_type": "display_data"
    }
   ],
   "source": [
    "plt.plot(mean_x)\n",
    "plt.plot(mean_y, color='lightgreen')\n",
    "plt.xlabel('turns')\n",
    "plt.ylabel('transverse centroid')\n",
    "plt.twinx()\n",
    "plt.plot(mean_z, color='red')\n",
    "for l in plt.gca().get_yticklabels():\n",
    "    l.set_color('red')\n",
    "plt.ylabel('longitudinal centroid', color='red')"
   ]
  },
  {
   "cell_type": "markdown",
   "metadata": {},
   "source": [
    "#### Profile it!"
   ]
  },
  {
   "cell_type": "code",
   "execution_count": 50,
   "metadata": {},
   "outputs": [
    {
     "name": "stdout",
     "output_type": "stream",
     "text": [
      " "
     ]
    }
   ],
   "source": [
    "with GPU_cupy(beam):\n",
    "    routput = %%prun -r track_one_turn()"
   ]
  },
  {
   "cell_type": "code",
   "execution_count": 51,
   "metadata": {},
   "outputs": [
    {
     "name": "stdout",
     "output_type": "stream",
     "text": [
      "         8863 function calls in 0.153 seconds\n",
      "\n",
      "   Ordered by: cumulative time\n",
      "   List reduced from 97 to 40 due to restriction <40>\n",
      "\n",
      "   ncalls  tottime  percall  cumtime  percall filename:lineno(function)\n",
      "        1    0.000    0.000    0.153    0.153 <string>:1(<module>)\n",
      "        1    0.000    0.000    0.153    0.153 <ipython-input-28-544209456374>:1(track_one_turn)\n",
      "        1    0.000    0.000    0.148    0.148 <ipython-input-8-f2a126cf6ed5>:19(track)\n",
      "        1    0.000    0.000    0.143    0.143 <ipython-input-7-e0abf0484af8>:37(slice)\n",
      "        1    0.035    0.035    0.138    0.138 <ipython-input-7-e0abf0484af8>:58(compute_means)\n",
      "      503    0.001    0.000    0.089    0.000 fusion.py:842(call)\n",
      "      502    0.001    0.000    0.087    0.000 search.py:107(where)\n",
      "      502    0.001    0.000    0.086    0.000 search.py:58(nonzero)\n",
      "      502    0.083    0.000    0.085    0.000 {method 'nonzero' of 'cupy.core.core.ndarray' objects}\n",
      "      198    0.000    0.000    0.006    0.000 meanvar.py:73(mean)\n",
      "      198    0.006    0.000    0.006    0.000 {method 'mean' of 'cupy.core.core.ndarray' objects}\n",
      "      500    0.005    0.000    0.006    0.000 {any}\n",
      "        2    0.001    0.001    0.004    0.002 <ipython-input-6-a206655169e2>:48(track)\n",
      "        2    0.000    0.000    0.004    0.002 <ipython-input-41-8b15c5554680>:1(convolve_via_fft)\n",
      "        1    0.001    0.001    0.004    0.004 histogram.py:6(histogram)\n",
      "        6    0.000    0.000    0.004    0.001 fft.py:98(_fft)\n",
      "        6    0.000    0.000    0.003    0.001 fft.py:92(_fft_c2c)\n",
      "        6    0.003    0.001    0.003    0.001 fft.py:63(_exec_fft)\n",
      "     1009    0.002    0.000    0.003    0.000 numeric.py:1927(isscalar)\n",
      "        2    0.003    0.001    0.003    0.001 <ipython-input-6-a206655169e2>:63(assemble_betatron_matrix)\n",
      "        4    0.000    0.000    0.002    0.001 fft.py:137(fft)\n",
      "        1    0.001    0.001    0.002    0.002 compiler.py:120(compile_with_cache)\n",
      "     1716    0.001    0.000    0.002    0.000 {isinstance}\n",
      "        2    0.000    0.000    0.001    0.001 fft.py:158(ifft)\n",
      "      603    0.001    0.000    0.001    0.000 _internal.py:247(__init__)\n",
      "      504    0.001    0.000    0.001    0.000 {hasattr}\n",
      "      202    0.001    0.000    0.001    0.000 abc.py:128(__instancecheck__)\n",
      "        2    0.000    0.000    0.001    0.000 <ipython-input-7-e0abf0484af8>:14(convert_to_particles)\n",
      "        1    0.000    0.000    0.001    0.001 <ipython-input-8-f2a126cf6ed5>:48(extract_wake)\n",
      "      603    0.001    0.000    0.001    0.000 _internal.py:281(get_as_parameter)\n",
      "        1    0.001    0.001    0.001    0.001 <ipython-input-5-1931593b0407>:13(track)\n",
      "        1    0.000    0.000    0.000    0.000 {method 'load' of 'cupy.cuda.function.Module' objects}\n",
      "      404    0.000    0.000    0.000    0.000 _weakrefset.py:70(__contains__)\n",
      "        2    0.000    0.000    0.000    0.000 {_hashlib.openssl_md5}\n",
      "        1    0.000    0.000    0.000    0.000 <ipython-input-8-f2a126cf6ed5>:36(wake_function)\n",
      "        6    0.000    0.000    0.000    0.000 {method 'astype' of 'cupy.core.core.ndarray' objects}\n",
      "        1    0.000    0.000    0.000    0.000 <ipython-input-7-e0abf0484af8>:53(particles_to_slices)\n",
      "        1    0.000    0.000    0.000    0.000 {method 'encode' of 'unicode' objects}\n",
      "        4    0.000    0.000    0.000    0.000 indexing.py:1(take)\n",
      "        1    0.000    0.000    0.000    0.000 ranges.py:61(linspace)\n",
      "\n",
      "\n"
     ]
    },
    {
     "data": {
      "text/plain": [
       "<pstats.Stats instance at 0x7f78b200e200>"
      ]
     },
     "execution_count": 51,
     "metadata": {},
     "output_type": "execute_result"
    }
   ],
   "source": [
    "routput.sort_stats(2).print_stats(40)"
   ]
  },
  {
   "cell_type": "code",
   "execution_count": 52,
   "metadata": {},
   "outputs": [],
   "source": [
    "with GPU_cupy(beam):\n",
    "    lproutput = %%lprun -r -f Slicer.slice track_one_turn()"
   ]
  },
  {
   "cell_type": "code",
   "execution_count": 53,
   "metadata": {},
   "outputs": [
    {
     "name": "stdout",
     "output_type": "stream",
     "text": [
      "Timer unit: 1e-06 s\n",
      "\n",
      "Total time: 0.137197 s\n",
      "File: <ipython-input-7-e0abf0484af8>\n",
      "Function: slice at line 37\n",
      "\n",
      "Line #      Hits         Time  Per Hit   % Time  Line Contents\n",
      "==============================================================\n",
      "    37                                               def slice(self, beam):\n",
      "    38                                                   '''Factory method for SliceSets, computing discretisation and\n",
      "    39                                                   statistics.\n",
      "    40                                                   '''\n",
      "    41         1          114    114.0      0.1          z_bins = pm.linspace(self.z_min, self.z_max, self.n_slices + 1)\n",
      "    42         1         2851   2851.0      2.1          hist, _ = pm.histogram(beam.z, bins=z_bins) # _ == z_bins\n",
      "    43         1          166    166.0      0.1          ids = self.particles_to_slices(beam)\n",
      "    44         1       134056 134056.0     97.7          mean_x, mean_y = self.compute_means(ids, beam.x, beam.y)\n",
      "    45         1            1      1.0      0.0          return SliceSet(\n",
      "    46         1            0      0.0      0.0              z_bins=z_bins,\n",
      "    47         1            0      0.0      0.0              n_macroparticles_per_slice=hist,\n",
      "    48         1            0      0.0      0.0              slice_index_of_particle=ids,\n",
      "    49         1            1      1.0      0.0              mean_x=mean_x,\n",
      "    50         1            8      8.0      0.0              mean_y=mean_y,\n",
      "    51                                                   )\n",
      "\n"
     ]
    }
   ],
   "source": [
    "lproutput.print_stats()"
   ]
  },
  {
   "cell_type": "markdown",
   "metadata": {},
   "source": [
    "# Summary"
   ]
  },
  {
   "cell_type": "markdown",
   "metadata": {},
   "source": [
    "`cupy` can be incorporated within the context management system and let's `PyHEADTAIL` compute on the GPU. The current longitudinal discretisation implemented in the `Slicer` class could be sped up significantly e.g. by sorting the particles longitudinally and base the `pm.histogram` and slice statistics on this."
   ]
  }
 ],
 "metadata": {
  "kernelspec": {
   "display_name": "Python 2",
   "language": "python",
   "name": "python2"
  },
  "language_info": {
   "codemirror_mode": {
    "name": "ipython",
    "version": 2
   },
   "file_extension": ".py",
   "mimetype": "text/x-python",
   "name": "python",
   "nbconvert_exporter": "python",
   "pygments_lexer": "ipython2",
   "version": "2.7.15"
  }
 },
 "nbformat": 4,
 "nbformat_minor": 2
}
